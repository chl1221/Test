{
 "cells": [
  {
   "cell_type": "markdown",
   "metadata": {},
   "source": [
    "# Gelatin Penetration"
   ]
  },
  {
   "cell_type": "code",
   "execution_count": 1,
   "metadata": {},
   "outputs": [],
   "source": [
    "from nd2reader import ND2Reader\n",
    "import matplotlib.pyplot as plt\n",
    "import numpy as np"
   ]
  },
  {
   "cell_type": "code",
   "execution_count": 2,
   "metadata": {},
   "outputs": [
    {
     "name": "stdout",
     "output_type": "stream",
     "text": [
      "                 z_levels: 18\n",
      "                   frames: 394\n",
      "             # time steps: 7092\n",
      "     time steps per frame: 18\n"
     ]
    }
   ],
   "source": [
    "with ND2Reader('z-stack movie resonant carvacrol gelatin nile red.nd2') as img:\n",
    "    for attr in ['z_levels', 'frames']:\n",
    "        print('{:>25}: {}'.format(attr, len(img.metadata[attr])))\n",
    "    print('{:>25}: {}'.format('# time steps', len(img.get_timesteps())))\n",
    "    print('{:>25}: {}'.format('time steps per frame',\n",
    "                              len(img.get_timesteps()) // len(img.metadata['frames'])))"
   ]
  },
  {
   "cell_type": "code",
   "execution_count": 3,
   "metadata": {},
   "outputs": [
    {
     "data": {
      "image/png": "[encoded data removed]",
      "text/plain": [
       "<Figure size 432x288 with 1 Axes>"
      ]
     },
     "metadata": {
      "needs_background": "light"
     },
     "output_type": "display_data"
    }
   ],
   "source": [
    "with ND2Reader('z-stack movie resonant carvacrol gelatin nile red.nd2') as img:\n",
    "    timesteps = img.get_timesteps() / 1000 / 60   # in minutes\n",
    "    plt.plot(timesteps)\n",
    "    plt.xlabel('steps')\n",
    "    plt.ylabel('time (min)')"
   ]
  },
  {
   "cell_type": "code",
   "execution_count": 4,
   "metadata": {},
   "outputs": [
    {
     "name": "stdout",
     "output_type": "stream",
     "text": [
      "{'x': 512, 'y': 512, 'c': 2, 't': 394, 'z': 18}\n",
      "['t']\n",
      "True\n"
     ]
    },
    {
     "data": {
      "image/png": "[encoded data removed]",
      "text/plain": [
       "<Figure size 432x288 with 2 Axes>"
      ]
     },
     "metadata": {
      "needs_background": "light"
     },
     "output_type": "display_data"
    }
   ],
   "source": [
    "with ND2Reader('z-stack movie resonant carvacrol gelatin nile red.nd2') as img:\n",
    "\n",
    "    img.bundle_axes = 'zyx'\n",
    "    img.iter_axes = 't'\n",
    "\n",
    "    print(img.sizes)\n",
    "    print(img.iter_axes)\n",
    "    \n",
    "    img.default_coords['c'] = 1 #c = 1 ('TRITC')\n",
    "    \n",
    "    nz = len(img.metadata['z_levels'])\n",
    "    nt = len(img.metadata['frames'])\n",
    "    \n",
    "    array = np.zeros((nz, nt))\n",
    "    array_bg = np.zeros((nz, 1))\n",
    "\n",
    "    cmp = np.empty((nt, nz))\n",
    "    for t in range(nt):\n",
    "        cmp[t] = img[t].mean(axis=(1, 2))\n",
    "    cmp -= cmp[0]\n",
    "    \n",
    "    img.bundle_axes = 'yx'\n",
    "    img.iter_axes = 'z'\n",
    "    \n",
    "    img.default_coords['t'] = 0\n",
    "    \n",
    "    for z in range(nz):\n",
    "        img_copy = img[z]\n",
    "        array_bg[z, 0] = img_copy.mean()\n",
    "        \n",
    "    for t in range(nt):\n",
    "        img.default_coords['t'] = t\n",
    "        for z in range(nz):\n",
    "            img_copy = img[z]\n",
    "            img_value = img_copy - array_bg[z, 0]\n",
    "            array[z, t] = img_value.mean()\n",
    "\n",
    "    print(np.allclose(array, cmp.T))\n",
    "    \n",
    "    plt.imshow(array, plt.cm.Reds, aspect='auto')\n",
    "    plt.colorbar()\n",
    "    plt.xlabel('time (min)')\n",
    "    plt.ylabel('z')\n",
    "    plt.title('Gelatin nanosponge penetration profile')\n",
    "    t_ticks = np.arange(0, timesteps[-1], 5, dtype=int)\n",
    "    plt.xticks(t_ticks / (timesteps[-1] / nt), t_ticks)\n",
    "    plt.show()  "
   ]
  },
  {
   "cell_type": "markdown",
   "metadata": {},
   "source": [
    "# Export to an .xlsx using pandas"
   ]
  },
  {
   "cell_type": "code",
   "execution_count": 5,
   "metadata": {},
   "outputs": [],
   "source": [
    "import pandas as pd\n",
    "\n",
    "## convert your array into a dataframe\n",
    "df = pd.DataFrame (array)\n",
    "\n",
    "## save to xlsx file\n",
    "\n",
    "filepath = 'Gelatin nile red penetration.xlsx'\n",
    "\n",
    "df.to_excel(filepath, index=False)"
   ]
  },
  {
   "cell_type": "code",
   "execution_count": null,
   "metadata": {},
   "outputs": [],
   "source": []
  }
 ],
 "metadata": {
  "kernelspec": {
   "display_name": "Python 3",
   "language": "python",
   "name": "python3"
  },
  "language_info": {
   "codemirror_mode": {
    "name": "ipython",
    "version": 3
   },
   "file_extension": ".py",
   "mimetype": "text/x-python",
   "name": "python",
   "nbconvert_exporter": "python",
   "pygments_lexer": "ipython3",
   "version": "3.7.6"
  }
 },
 "nbformat": 4,
 "nbformat_minor": 4
}
